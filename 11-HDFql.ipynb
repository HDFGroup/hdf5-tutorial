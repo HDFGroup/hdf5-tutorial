{
 "cells": [
  {
   "cell_type": "markdown",
   "metadata": {},
   "source": [
    "# HDFql\n",
    "\n",
    "If you are used to managing data in a (No)SQL database, you will find HDFql very familiar. It is a high-level (declarative) language that allows you to manage HDF5 files using a SQL-like language and only a few lines of code in C, C++, Java, Python, Fortran, C#, or R. See the __[HDFql website](https://www.hdfql.com/)__ for more information. The HDFql implementation depends on the HDF5 library, but all of that is hidden from users. HDFql support threading and parallel I/O, but we will not cover that here. Check out the __[HDFql documentation](https://www.hdfql.com/#documentation/)__ for more information!\n",
    "\n",
    "The C++ version of our model problem is our starting point, but we will use the HDFql bindings instead of the HDF5 library C-API."
   ]
  },
  {
   "cell_type": "markdown",
   "metadata": {},
   "source": [
    "## Installation\n",
    "\n",
    "The installation is pretty simple. You can download binaries from the __[HDFql website](https://www.hdfql.com/)__ for Windows, Linux, and macOS. Extract the zip file and add the `bin` directory to your `PATH` environment variable, and you are ready to go. Without writing any code, you can use the `HDFqlCLI` command-line tool to create, read, and write HDF5 files."
   ]
  },
  {
   "cell_type": "code",
   "execution_count": null,
   "metadata": {},
   "outputs": [],
   "source": [
    "%%bash\n",
    "wget -q -nc -P build https://www.hdfql.com/releases/2.5.0/HDFql-2.5.0_Linux64.zip\n",
    "unzip -oq build/HDFql-2.5.0_Linux64.zip -d build"
   ]
  },
  {
   "cell_type": "markdown",
   "metadata": {},
   "source": [
    "## Reusing the C++ example we already have\n",
    "\n",
    "Instead of introducing a new language, we'll stick with C++. The sample path generation is the same as before, but we will use the HDFql C++ bindings to write the data to an HDF5 file. Our workhorse will be the `HDFql::execute` function, which takes a string as an argument and executes it as an HDFql statement. The HDFql statements are very similar to SQL statements, but they are not identical. The HDFql website has a __[quick start](https://www.hdfql.com/quickstart)__ where you can look up the syntax.\n",
    "\n",
    "To make this example a little more interesting, we have added a few details that might trip up unsuspecting users.\n",
    "\n",
    "1. We show how to pass values from the C++ host language to HDFql statements by using a C++ `ostringstream` object, which you can think of as a C++ `StringBuilder`. (See lines 33 and 39-42 for examples.)\n",
    "2. `DATASET` is a reserved keyword in HDFql, so we must escape it by using quotation marks. (See lines 33 for an example.)\n",
    "3. We show how to register the array variable `ou_process` with HDFql so that we can use it in the HDFql `CREATE DATASET` statement. (See line 33 for an example.)"
   ]
  },
  {
   "cell_type": "code",
   "execution_count": null,
   "metadata": {},
   "outputs": [],
   "source": [
    "%%writefile src/ou_hdfql.cpp\n",
    "#include \"ou_sampler.hpp\"\n",
    "\n",
    "#include \"HDFql.hpp\"\n",
    "#include <iostream>\n",
    "#include <sstream>\n",
    "#include <vector>\n",
    "\n",
    "using namespace std;\n",
    "\n",
    "#define sstr(x) (query.str(\"\"),query.clear(),query << x,query.str().c_str())\n",
    "\n",
    "int main()\n",
    "{\n",
    "    const size_t path_count = 100, step_count = 1000;\n",
    "    const double dt = 0.01, theta = 1.0, mu = 0.0, sigma = 0.1;\n",
    "\n",
    "    cout << \"Running with parameters:\"\n",
    "         << \" paths=\" << path_count << \" steps=\" << step_count\n",
    "         << \" dt=\" << dt << \" theta=\" << theta << \" mu=\" << mu << \" sigma=\" << sigma << endl;\n",
    "\n",
    "    vector<double> ou_process;\n",
    "    ou_sampler(ou_process, path_count, step_count, dt, theta, mu, sigma);\n",
    "    \n",
    "    //\n",
    "    // Write the sample paths to an HDF5 file using the HDFql C++ bindings!\n",
    "    //\n",
    "\n",
    "    HDFql::execute(\"CREATE TRUNCATE AND USE FILE ou_hdfql.h5\");\n",
    "    HDFql::execute(\"CREATE ATTRIBUTE source AS VARCHAR VALUES(\\\"https://github.com/HDFGroup/hdf5-tutorial\\\")\");\n",
    "\n",
    "    ostringstream query;\n",
    "    HDFql::execute(sstr(\"CREATE DATASET \\\"dataset\\\" AS DOUBLE(\" << path_count << \", \" << step_count << \") VALUES FROM MEMORY \" << HDFql::variableTransientRegister(ou_process)));\n",
    "\n",
    "    HDFql::execute(\"CREATE ATTRIBUTE dataset/comment AS VARCHAR VALUES(\\\"This dataset contains sample paths of an Ornstein-Uhlenbeck process.\\\")\");\n",
    "    HDFql::execute(\"CREATE ATTRIBUTE dataset/Wikipedia AS VARCHAR VALUES(\\\"https://en.wikipedia.org/wiki/Ornstein%E2%80%93Uhlenbeck_process\\\")\");\n",
    "    HDFql::execute(\"CREATE ATTRIBUTE dataset/rows AS VARCHAR VALUES(\\\"path\\\")\");\n",
    "    HDFql::execute(\"CREATE ATTRIBUTE dataset/columns AS VARCHAR VALUES(\\\"time\\\")\");\n",
    "    HDFql::execute(sstr(\"CREATE ATTRIBUTE dataset/dt AS DOUBLE VALUES(\" << dt << \")\"));\n",
    "    HDFql::execute(sstr(\"CREATE ATTRIBUTE dataset/θ AS DOUBLE VALUES(\" << theta << \")\"));\n",
    "    HDFql::execute(sstr(\"CREATE ATTRIBUTE dataset/μ AS DOUBLE VALUES(\" << mu << \")\"));\n",
    "    HDFql::execute(sstr(\"CREATE ATTRIBUTE dataset/σ AS DOUBLE VALUES(\" << sigma << \")\"));\n",
    "\n",
    "    HDFql::execute(\"CLOSE FILE\");\n",
    "\n",
    "    return 0;\n",
    "}"
   ]
  },
  {
   "cell_type": "markdown",
   "metadata": {},
   "source": [
    "The beauty of HDFql is that you can reuse the same statements in any of the supported host languages  (C, C++, Java, Python, Fortran, C#, and R). What's different for different host languages is the syntax for passing values from the host language to HDFql statements."
   ]
  },
  {
   "cell_type": "code",
   "execution_count": null,
   "metadata": {
    "dotnet_interactive": {
     "language": "csharp"
    },
    "polyglot_notebook": {
     "kernelName": "csharp"
    }
   },
   "outputs": [],
   "source": [
    "%%bash\n",
    "g++ -std=c++17 -Wall -pedantic -I./build/hdfql-2.5.0/include -L./build/hdfql-2.5.0/wrapper/cpp -I./include  ./src/ou_hdfql.cpp ./src/ou_sampler.cpp -o ./build/ou_hdfql -lHDFql\n",
    "export LD_LIBRARY_PATH=/workspaces/hdf5-tutorial/build/hdfql-2.5.0/wrapper/cpp/:$LD_LIBRARY_PATH\n",
    "./build/ou_hdfql\n",
    "ls -iks ou_hdfql.h5"
   ]
  }
 ],
 "metadata": {
  "kernelspec": {
   "display_name": "hdf5-tutorial",
   "language": "python",
   "name": "python3"
  },
  "language_info": {
   "codemirror_mode": {
    "name": "ipython",
    "version": 3
   },
   "file_extension": ".py",
   "mimetype": "text/x-python",
   "name": "python",
   "nbconvert_exporter": "python",
   "pygments_lexer": "ipython3",
   "version": "3.12.1"
  },
  "polyglot_notebook": {
   "kernelInfo": {
    "defaultKernelName": "csharp",
    "items": [
     {
      "aliases": [],
      "name": "csharp"
     }
    ]
   }
  }
 },
 "nbformat": 4,
 "nbformat_minor": 2
}
