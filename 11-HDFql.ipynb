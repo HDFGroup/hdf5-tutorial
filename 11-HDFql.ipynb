{
 "cells": [
  {
   "cell_type": "markdown",
   "metadata": {},
   "source": [
    "# HDFql\n",
    "\n",
    "https://www.hdfql.com/\n",
    "\n",
    "## Installation\n",
    "\n",
    "```\n",
    "wget -P build https://www.hdfql.com/releases/2.5.0/HDFql-2.5.0_Linux64.zip\n",
    "unzip build/HDFql-2.5.0_Linux64.zip -d build\n",
    "```\n",
    "\n",
    "## Let's reuse the C++ example we have!\n",
    "\n",
    "\n",
    "\n"
   ]
  },
  {
   "cell_type": "code",
   "execution_count": null,
   "metadata": {},
   "outputs": [],
   "source": [
    "%%writefile src/ou_hdfql.cpp\n",
    "#include \"ou_sampler.hpp\"\n",
    "\n",
    "#include \"HDFql.hpp\"\n",
    "#include <iostream>\n",
    "#include <sstream>\n",
    "#include <vector>\n",
    "\n",
    "using namespace std;\n",
    "\n",
    "int main()\n",
    "{\n",
    "    const size_t path_count = 100, step_count = 1000;\n",
    "    const double dt = 0.01, theta = 1.0, mu = 0.0, sigma = 0.1;\n",
    "\n",
    "    cout << \"Running with parameters:\"\n",
    "         << \" paths=\" << path_count << \" steps=\" << step_count\n",
    "         << \" dt=\" << dt << \" theta=\" << theta << \" mu=\" << mu << \" sigma=\" << sigma << endl;\n",
    "\n",
    "    vector<double> ou_process;\n",
    "    ou_sampler(ou_process, path_count, step_count, dt, theta, mu, sigma);\n",
    "    \n",
    "    //\n",
    "    // Write the sample paths to an HDF5 file using the HDFql C++ bindings!\n",
    "    //\n",
    "\n",
    "    cout << \"HDFql version: \" << HDFql::Version << endl;\n",
    "\n",
    "    HDFql::execute(\"CREATE TRUNCATE FILE ou_hdfql.h5\");\n",
    "    HDFql::execute(\"CREATE ATTRIBUTE ou_hdfql.h5 source AS VARCHAR VALUES(\\\"https://github.com/HDFGroup/hdf5-tutorial\\\")\");\n",
    "\n",
    "    std::ostringstream query;\n",
    "    query << \"CREATE DATASET ou_hdfql.h5 \\\"dataset\\\" AS DOUBLE(\" << path_count << \", \" << step_count << \")\";\n",
    "    HDFql::execute(query.str().c_str());\n",
    "\n",
    "    HDFql::variableRegister(ou_process.data());\n",
    "    query.str(\"\");\n",
    "    query << \"INSERT INTO ou_hdfql.h5 \\\"dataset\\\" VALUES FROM MEMORY \" << HDFql::variableGetNumber(ou_process.data());\n",
    "    HDFql::execute(query.str().c_str());\n",
    "    HDFql::variableUnregister(ou_process.data());\n",
    "    \n",
    "    HDFql::execute(\"CREATE ATTRIBUTE ou_hdfql.h5 dataset/comment AS VARCHAR VALUES(\\\"This dataset contains sample paths of an Ornstein-Uhlenbeck process.\\\")\");\n",
    "    HDFql::execute(\"CREATE ATTRIBUTE ou_hdfql.h5 dataset/Wikipedia AS VARCHAR VALUES(\\\"https://en.wikipedia.org/wiki/Ornstein%E2%80%93Uhlenbeck_process\\\")\");\n",
    "    HDFql::execute(\"CREATE ATTRIBUTE ou_hdfql.h5 dataset/rows AS VARCHAR VALUES(\\\"path\\\")\");\n",
    "    HDFql::execute(\"CREATE ATTRIBUTE ou_hdfql.h5 dataset/columns AS VARCHAR VALUES(\\\"time\\\")\");\n",
    "\n",
    "    query.str(\"\");\n",
    "    query << \"CREATE ATTRIBUTE ou_hdfql.h5 dataset/dt AS DOUBLE VALUES(\" << dt << \")\";\n",
    "    HDFql::execute(query.str().c_str());\n",
    "\n",
    "    query.str(\"\");\n",
    "    query << \"CREATE ATTRIBUTE ou_hdfql.h5 dataset/θ AS DOUBLE VALUES(\" << theta << \")\";\n",
    "    HDFql::execute(query.str().c_str());\n",
    "\n",
    "    query.str(\"\");\n",
    "    query << \"CREATE ATTRIBUTE ou_hdfql.h5 dataset/μ AS DOUBLE VALUES(\" << mu << \")\";\n",
    "    HDFql::execute(query.str().c_str());\n",
    "\n",
    "    query.str(\"\");\n",
    "    query << \"CREATE ATTRIBUTE ou_hdfql.h5 dataset/σ AS DOUBLE VALUES(\" << sigma << \")\";\n",
    "    HDFql::execute(query.str().c_str());\n",
    "\n",
    "    return 0;\n",
    "}"
   ]
  },
  {
   "cell_type": "code",
   "execution_count": null,
   "metadata": {
    "dotnet_interactive": {
     "language": "csharp"
    },
    "polyglot_notebook": {
     "kernelName": "csharp"
    }
   },
   "outputs": [],
   "source": [
    "%%bash\n",
    "g++ -std=c++17 -Wall -pedantic -I./build/hdfql-2.5.0/include -L./build/hdfql-2.5.0/wrapper/cpp -I./include  ./src/ou_hdfql.cpp ./src/ou_sampler.cpp -o ./build/ou_hdfql -lHDFql\n",
    "export LD_LIBRARY_PATH=/workspaces/hdf5-tutorial/build/hdfql-2.5.0/wrapper/cpp/:$LD_LIBRARY_PATH\n",
    "./build/ou_hdfql\n",
    "ls -iks ou_hdfql.h5"
   ]
  }
 ],
 "metadata": {
  "kernelspec": {
   "display_name": "hdf5-tutorial",
   "language": "python",
   "name": "python3"
  },
  "language_info": {
   "codemirror_mode": {
    "name": "ipython",
    "version": 3
   },
   "file_extension": ".py",
   "mimetype": "text/x-python",
   "name": "python",
   "nbconvert_exporter": "python",
   "pygments_lexer": "ipython3",
   "version": "3.12.1"
  },
  "polyglot_notebook": {
   "kernelInfo": {
    "defaultKernelName": "csharp",
    "items": [
     {
      "aliases": [],
      "name": "csharp"
     }
    ]
   }
  }
 },
 "nbformat": 4,
 "nbformat_minor": 2
}
