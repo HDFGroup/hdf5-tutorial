{
 "cells": [
  {
   "cell_type": "markdown",
   "metadata": {},
   "source": [
    "# Accessing HSDS from the HDF5 library\n",
    "\n",
    "<div class=\"alert alert-block alert-warning\">\n",
    "This notebook will work only with a running HSDS instance. If you don't have one running, you can start one using the <a href=\"./05-HSDS.ipynb\">HSDS notebook</a>.\n",
    "</div>\n",
    "\n",
    "## Introducing the HDF5 REST VOL connector"
   ]
  },
  {
   "cell_type": "markdown",
   "metadata": {},
   "source": [
    "### Installing the HDF5 REST VOL connector\n",
    "\n",
    "- We need a newer version of HDF5 than is available in the Debian repositories.  We'll install from source.\n",
    "- We'll also need to install the HDF5 REST VOL connector from source."
   ]
  },
  {
   "cell_type": "code",
   "execution_count": null,
   "metadata": {},
   "outputs": [],
   "source": [
    "%%bash\n",
    "git clone https://github.com/HDFGroup/vol-rest.git build/rest-vol\n",
    "mkdir -p build/rest-vol/src\n",
    "git clone https://github.com/HDFGroup/hdf5.git build/rest-vol/src/hdf5\n",
    "cd build/rest-vol\n",
    "./build_vol_autotools.sh -P /home/vscode/.local -H /home/vscode/.local 2>&1 > /dev/null"
   ]
  },
  {
   "cell_type": "markdown",
   "metadata": {},
   "source": [
    "\n",
    "### Modifying the C++ HDF5 example to use the REST VOL connector\n",
    "\n",
    "## Improving performance with multi-dataset I/O"
   ]
  },
  {
   "cell_type": "code",
   "execution_count": null,
   "metadata": {},
   "outputs": [],
   "source": [
    "%%writefile src/restvol.h\n",
    "#ifndef RESTVOL_H\n",
    "#define RESTVOL_H\n",
    "\n",
    "#define HSDS_FILENAME_PREFIX \"/home/vscode/\"\n",
    "\n",
    "#define FILENAME_BUFFER_SIZE 1024\n",
    "#define NUM_DATASETS 2\n",
    "#define NUM_INTEGERS (1000 * 1000 * 100) / NUM_DATASETS\n",
    "\n",
    "#define ERROR(msg)                \\\n",
    "    fprintf(stderr, \"%s\\n\", msg); \\\n",
    "    exit(1);\n",
    "\n",
    "#define LOG(msg) \\\n",
    "    fprintf(stderr, \"%s\\n\", msg);\n",
    "\n",
    "// For displaying log messages after the progress bars for dataset read/write\n",
    "#define SCROLL_AMNT (NUM_DATASETS < 21 ? NUM_DATASETS : 21)\n",
    "\n",
    "#endif"
   ]
  },
  {
   "cell_type": "code",
   "execution_count": null,
   "metadata": {},
   "outputs": [],
   "source": [
    "%%writefile src/restvol.c\n",
    "#include \"restvol.h\"\n",
    "#include \"hdf5.h\"\n",
    "#include \"rest_vol_public.h\"\n",
    "\n",
    "#include <stdlib.h>\n",
    "\n",
    "int main(void)\n",
    "{\n",
    "    LOG(\"Initializing REST VOL...\")\n",
    "    H5rest_init();\n",
    "\n",
    "    // Set a file access property to use the REST VOL\n",
    "    hid_t fapl = H5Pcreate(H5P_FILE_ACCESS);\n",
    "    H5Pset_fapl_rest_vol(fapl);\n",
    "\n",
    "    LOG(\"Creating file...\")\n",
    "    hid_t file = H5I_INVALID_HID;\n",
    "    if ((file = H5Fcreate(HSDS_FILENAME_PREFIX \"my_file.h5\", H5F_ACC_TRUNC, H5P_DEFAULT, fapl)) < 0)\n",
    "    {\n",
    "        ERROR(\"Failed to create file\");\n",
    "    }\n",
    "\n",
    "    LOG(\"Setting up data...\");\n",
    "    fprintf(stderr, \"  %d Datasets of %d integers each\\n\", NUM_DATASETS, NUM_INTEGERS);\n",
    "\n",
    "    int *write_data[NUM_DATASETS];\n",
    "    int *read_data[NUM_DATASETS];\n",
    "\n",
    "    hid_t dspace_ids[NUM_DATASETS];\n",
    "    hid_t dset_ids[NUM_DATASETS];\n",
    "    hid_t type_ids[NUM_DATASETS];\n",
    "    hid_t sel_space_ids[NUM_DATASETS];\n",
    "\n",
    "    for (size_t i = 0; i < NUM_DATASETS; i++)\n",
    "    {\n",
    "        dspace_ids[i] = H5Screate_simple(1, (hsize_t[]){NUM_INTEGERS}, NULL);\n",
    "\n",
    "        char dset_name[FILENAME_BUFFER_SIZE];\n",
    "        snprintf(dset_name, FILENAME_BUFFER_SIZE, \"%s%zu\", \"dset\", i);\n",
    "\n",
    "        if ((dset_ids[i] = H5Dcreate(file, dset_name, H5T_NATIVE_INT, dspace_ids[i],\n",
    "                                     H5P_DEFAULT, H5P_DEFAULT, H5P_DEFAULT)) < 0)\n",
    "        {\n",
    "            ERROR(\"Failed to create dataset\");\n",
    "        }\n",
    "\n",
    "        type_ids[i] = H5T_NATIVE_INT;\n",
    "        sel_space_ids[i] = H5S_ALL;\n",
    "\n",
    "        if ((write_data[i] = calloc(NUM_INTEGERS, sizeof(int))) == NULL)\n",
    "        {\n",
    "            ERROR(\"Failed to allocate memory\");\n",
    "        }\n",
    "\n",
    "        if ((read_data[i] = calloc(NUM_INTEGERS, sizeof(int))) == NULL)\n",
    "        {\n",
    "            ERROR(\"Failed to allocate memory\");\n",
    "        }\n",
    "\n",
    "        for (size_t j = 0; j < NUM_INTEGERS; j++)\n",
    "            write_data[i][j] = i * 10000 + j;\n",
    "    }\n",
    "\n",
    "    LOG(\"Writing data...\");\n",
    "\n",
    "    if (H5Dwrite_multi(NUM_DATASETS, dset_ids, type_ids, sel_space_ids, sel_space_ids,\n",
    "                       H5P_DEFAULT, (const void **)write_data) < 0)\n",
    "    {\n",
    "        ERROR(\"Failed to perform multi write\");\n",
    "    }\n",
    "\n",
    "    for (size_t i = 0; i < SCROLL_AMNT; i++)\n",
    "        fprintf(stderr, \"\\n\");\n",
    "\n",
    "    LOG(\"Write complete. Reading data...\");\n",
    "    fflush(stderr);\n",
    "\n",
    "    if (H5Dread_multi(NUM_DATASETS, dset_ids, type_ids, sel_space_ids, sel_space_ids,\n",
    "                      H5P_DEFAULT, (void **)read_data) < 0)\n",
    "    {\n",
    "        ERROR(\"Failed to perform multi read\");\n",
    "    }\n",
    "\n",
    "    for (size_t i = 0; i < SCROLL_AMNT; i++)\n",
    "        fprintf(stderr, \"\\n\");\n",
    "\n",
    "    LOG(\"Verifying read correctness...\");\n",
    "\n",
    "    for (size_t i = 0; i < NUM_DATASETS; i++)\n",
    "        for (size_t j = 0; j < NUM_INTEGERS; j++)\n",
    "        {\n",
    "            if (read_data[i][j] != write_data[i][j])\n",
    "            {\n",
    "                fprintf(stderr, \"At read_data[%zu][%zu], %d != expected %d\\n\",\n",
    "                        i, j, read_data[i][j], write_data[i][j]);\n",
    "                exit(1);\n",
    "            }\n",
    "        }\n",
    "\n",
    "    LOG(\"Multi read/write complete!\")\n",
    "\n",
    "    H5Pclose(fapl);\n",
    "    H5Fclose(file);\n",
    "\n",
    "    LOG(\"Terminating REST VOL...\");\n",
    "    H5rest_term();\n",
    "\n",
    "    return 0;\n",
    "}"
   ]
  },
  {
   "cell_type": "code",
   "execution_count": 6,
   "metadata": {},
   "outputs": [
    {
     "name": "stderr",
     "output_type": "stream",
     "text": [
      "Initializing REST VOL...\n"
     ]
    },
    {
     "name": "stderr",
     "output_type": "stream",
     "text": [
      "Creating file...\n",
      "Setting up data...\n",
      "  2 Datasets of 50000000 integers each\n",
      "Writing data...\n",
      "\n",
      "\n",
      "Write complete. Reading data...\n",
      "\n",
      "\n",
      "Verifying read correctness...\n",
      "Multi read/write complete!\n",
      "Terminating REST VOL...\n"
     ]
    }
   ],
   "source": [
    "%%bash\n",
    "gcc -I/home/vscode/.local/include -L/home/vscode/.local/lib ./src/restvol.c -o ./build/restvol -lhdf5 -lhdf5_vol_rest -lcurl -ldl -Wl,-rpath=/home/vscode/.local/lib\n",
    "export HSDS_USERNAME=vscode\n",
    "export HSDS_PASSWORD=vscode\n",
    "export HSDS_ENDPOINT=http://localhost:5101\n",
    "./build/restvol"
   ]
  }
 ],
 "metadata": {
  "kernelspec": {
   "display_name": "hdf5-tutorial",
   "language": "python",
   "name": "python3"
  },
  "language_info": {
   "codemirror_mode": {
    "name": "ipython",
    "version": 3
   },
   "file_extension": ".py",
   "mimetype": "text/x-python",
   "name": "python",
   "nbconvert_exporter": "python",
   "pygments_lexer": "ipython3",
   "version": "3.10.0"
  }
 },
 "nbformat": 4,
 "nbformat_minor": 2
}
