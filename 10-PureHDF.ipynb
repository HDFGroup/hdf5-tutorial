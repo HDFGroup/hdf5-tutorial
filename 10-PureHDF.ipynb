{
 "cells": [
  {
   "cell_type": "markdown",
   "metadata": {},
   "source": [
    "# PureHDF\n",
    "\n",
    "https://github.com/Apollo3zehn/PureHDF\n",
    "\n",
    "## Install the .NET SDK 8.0 on Debian 11\n",
    "\n",
    "```bash\n",
    "wget https://packages.microsoft.com/config/debian/11/packages-microsoft-prod.deb -O packages-microsoft-prod.deb\n",
    "sudo dpkg -i packages-microsoft-prod.deb\n",
    "rm packages-microsoft-prod.deb\n",
    "sudo apt-get update && sudo apt-get install -y dotnet-sdk-8.0\n",
    "```\n",
    "\n",
    "## Install the VS Code extension\n",
    "\n",
    "[Polyglot Notebooks](https://marketplace.visualstudio.com/items?itemName=ms-dotnettools.dotnet-interactive-vscode), aka `ms-dotnettools.dotnet-interactive-vscode`\n",
    "\n",
    "## Install the PureHDF NuGet package"
   ]
  },
  {
   "cell_type": "code",
   "execution_count": null,
   "metadata": {
    "dotnet_interactive": {
     "language": "csharp"
    },
    "polyglot_notebook": {
     "kernelName": "csharp"
    }
   },
   "outputs": [],
   "source": [
    "#r \"nuget: PureHDF, 1.0.0-beta.3\""
   ]
  },
  {
   "cell_type": "markdown",
   "metadata": {},
   "source": [
    "## Let's go!"
   ]
  },
  {
   "cell_type": "code",
   "execution_count": null,
   "metadata": {
    "dotnet_interactive": {
     "language": "csharp"
    },
    "polyglot_notebook": {
     "kernelName": "csharp"
    }
   },
   "outputs": [],
   "source": [
    "using PureHDF;"
   ]
  },
  {
   "cell_type": "code",
   "execution_count": null,
   "metadata": {
    "dotnet_interactive": {
     "language": "csharp"
    },
    "polyglot_notebook": {
     "kernelName": "csharp"
    }
   },
   "outputs": [],
   "source": [
    "ulong path_count = 100, step_count = 1000;\n",
    "double dt = 0.01, theta = 1.0, mu = 0.0, sigma = 0.1;\n",
    "\n",
    "// How do C# programmers get through life without the normal distribution?\n",
    "\n",
    "var normal = (Random random, double mean, double stddev) =>\n",
    "{\n",
    "    double x1 = 1 - random.NextDouble();\n",
    "    double x2 = 1 - random.NextDouble();\n",
    "    double y1 = Math.Sqrt(-2.0 * Math.Log(x1)) * Math.Cos(2.0 * Math.PI * x2);\n",
    "    return y1 * stddev + mean;\n",
    "};\n",
    "\n",
    "var random = new Random();\n",
    "\n",
    "var data = new double[path_count, step_count];\n",
    "\n",
    "for (ulong i = 0; i < path_count; i++)\n",
    "{\n",
    "    data[i, 0] = 0.0d;\n",
    "    for (ulong j = 1; j < step_count; j++)\n",
    "    {\n",
    "        double dW = normal(random, 0.0, Math.Sqrt(dt));\n",
    "        data[i, j] = data[i, j - 1] + theta * (mu - data[i, j - 1]) * dt + sigma * dW;\n",
    "    }\n",
    "}\n",
    "\n",
    "var dataset = new H5Dataset(data, fileDims: new ulong[] { path_count, step_count });\n",
    "\n",
    "dataset.Attributes = new()\n",
    "{\n",
    "    [\"comment\"] = new string(\"This dataset contains sample paths of an Ornstein-Uhlenbeck process.\"),\n",
    "    [\"Wikipedia\"] = new string(\"https://en.wikipedia.org/wiki/Ornstein%E2%80%93Uhlenbeck_process\"),\n",
    "    [\"rows\"] = new string(\"path\"),\n",
    "    [\"columns\"] = new string(\"time\"),\n",
    "    [\"dt\"] = dt,\n",
    "    [\"θ\"] = theta,\n",
    "    [\"μ\"] = mu,\n",
    "    [\"σ\"] = sigma\n",
    "};\n",
    "\n",
    "var file = new H5File()\n",
    "{\n",
    "    Attributes = new()\n",
    "    {\n",
    "        [\"source\"] = new string(\"https://github.com/HDFGroup/hdf5-tutorial\")\n",
    "    },\n",
    "\n",
    "    [\"dataset\"] = dataset\n",
    "};\n",
    "\n",
    "file.Write(\"ou_purehdf.h5\");"
   ]
  }
 ],
 "metadata": {
  "kernelspec": {
   "display_name": ".NET (C#)",
   "language": "C#",
   "name": ".net-csharp"
  },
  "language_info": {
   "name": "polyglot-notebook"
  },
  "polyglot_notebook": {
   "kernelInfo": {
    "defaultKernelName": "csharp",
    "items": [
     {
      "aliases": [],
      "name": "csharp"
     }
    ]
   }
  }
 },
 "nbformat": 4,
 "nbformat_minor": 2
}
