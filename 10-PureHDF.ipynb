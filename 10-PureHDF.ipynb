{
 "cells": [
  {
   "cell_type": "markdown",
   "metadata": {},
   "source": [
    "# PureHDF\n",
    "\n",
    "https://github.com/Apollo3zehn/PureHDF\n",
    "\n",
    "## Install the .NET SDK 8.0 on Debian 11\n",
    "\n",
    "```bash\n",
    "wget https://packages.microsoft.com/config/debian/11/packages-microsoft-prod.deb -O packages-microsoft-prod.deb\n",
    "sudo dpkg -i packages-microsoft-prod.deb\n",
    "rm packages-microsoft-prod.deb\n",
    "sudo apt-get update && sudo apt-get install -y dotnet-sdk-8.0\n",
    "```\n",
    "\n",
    "## Install the VS Code extension\n",
    "\n",
    "[Polyglot Notebooks](https://marketplace.visualstudio.com/items?itemName=ms-dotnettools.dotnet-interactive-vscode), aka `ms-dotnettools.dotnet-interactive-vscode`\n",
    "\n",
    "## Install the PureHDF NuGet package"
   ]
  },
  {
   "cell_type": "code",
   "execution_count": null,
   "metadata": {
    "dotnet_interactive": {
     "language": "csharp"
    },
    "polyglot_notebook": {
     "kernelName": "csharp"
    }
   },
   "outputs": [],
   "source": [
    "#r \"nuget: PureHDF, 1.0.0-beta.2\""
   ]
  },
  {
   "cell_type": "code",
   "execution_count": null,
   "metadata": {
    "dotnet_interactive": {
     "language": "csharp"
    },
    "polyglot_notebook": {
     "kernelName": "csharp"
    }
   },
   "outputs": [],
   "source": [
    "using PureHDF;"
   ]
  },
  {
   "cell_type": "code",
   "execution_count": null,
   "metadata": {
    "dotnet_interactive": {
     "language": "csharp"
    },
    "polyglot_notebook": {
     "kernelName": "csharp"
    }
   },
   "outputs": [],
   "source": [
    "ulong path_count = 100, step_count = 1000;\n",
    "\n",
    "var dt = 0.01d;\n",
    "var theta = 1.0d;\n",
    "var mu = 0.0d;\n",
    "var sigma = 0.1d;\n",
    "\n",
    "var data = new double[path_count, step_count];\n",
    "var dataset = new H5Dataset<double[,]>(new ulong[] {(ulong)data.GetLength(0), (ulong)data.GetLength(1)});\n",
    "\n",
    "dataset.Attributes = new()\n",
    "{\n",
    "    [\"comment\"] = new string(\"This dataset contains sample paths of an Ornstein-Uhlenbeck process.\"),\n",
    "    [\"Wikipedia\"] = new string(\"https://en.wikipedia.org/wiki/Ornstein%E2%80%93Uhlenbeck_process\"),\n",
    "    [\"rows\"] = new string(\"path\"),\n",
    "    [\"columns\"] = new string(\"time\"),\n",
    "    [\"dt\"] = dt,\n",
    "    [\"θ\"] = theta,\n",
    "    [\"μ\"] = mu,\n",
    "    [\"σ\"] = sigma\n",
    "};\n",
    "\n",
    "var file = new H5File()\n",
    "{\n",
    "    Attributes = new()\n",
    "    {\n",
    "        [\"source\"] = new string(\"https://github.com/HDFGroup/hdf5-tutorial\")\n",
    "    },\n",
    "\n",
    "    [\"dataset\"] = dataset\n",
    "};\n",
    "\n",
    "\n",
    "//var writer = file.BeginWrite(\"ou_purehdf.h5\");\n",
    "//writer.Write(dataset, data);\n",
    "\n",
    "file.Write(\"ou_purehdf.h5\");    "
   ]
  }
 ],
 "metadata": {
  "kernelspec": {
   "display_name": ".NET (C#)",
   "language": "C#",
   "name": ".net-csharp"
  },
  "language_info": {
   "name": "polyglot-notebook"
  },
  "polyglot_notebook": {
   "kernelInfo": {
    "defaultKernelName": "csharp",
    "items": [
     {
      "aliases": [],
      "name": "csharp"
     }
    ]
   }
  }
 },
 "nbformat": 4,
 "nbformat_minor": 2
}
