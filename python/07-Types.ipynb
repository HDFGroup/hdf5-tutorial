{
 "cells": [
  {
   "attachments": {},
   "cell_type": "markdown",
   "metadata": {},
   "source": [
    "# Types"
   ]
  },
  {
   "attachments": {},
   "cell_type": "markdown",
   "metadata": {},
   "source": [
    "Objectives\n",
    " * Learn more about the HDF5 type system\n",
    " * Create fixed-length string datasets\n",
    " * Create compound type datasets"
   ]
  },
  {
   "cell_type": "code",
   "execution_count": null,
   "metadata": {},
   "outputs": [],
   "source": [
    "USE_H5PY = True # set to False to use HSDS instead\n",
    "if USE_H5PY:\n",
    "    import h5py\n",
    "    WORK_DIR=\".\"  # this directory\n",
    "else:\n",
    "    import h5pyd as h5py\n",
    "    WORK_DIR=\"hdf5://home/test_user1/\"\n",
    "import os.path as op\n",
    "import numpy as np"
   ]
  },
  {
   "cell_type": "code",
   "execution_count": null,
   "metadata": {},
   "outputs": [],
   "source": [
    "filepath = op.join(WORK_DIR, \"07.h5\")\n",
    "print(f\"creating HDF5 file here: {filepath}\")\n",
    "f = h5py.File(filepath, 'w')\n",
    "f.id.id"
   ]
  },
  {
   "cell_type": "code",
   "execution_count": null,
   "metadata": {},
   "outputs": [],
   "source": [
    "# Datasets with fixed-width strings are efficient to index\n",
    "# Create them using the numpy Snn type (where nn is the width of the string)\n",
    "dt = np.dtype(\"S10\")\n",
    "dset = f.create_dataset(\"fixed_str\", (4,), dtype=dt)"
   ]
  },
  {
   "cell_type": "code",
   "execution_count": null,
   "metadata": {},
   "outputs": [],
   "source": [
    "dset[...]"
   ]
  },
  {
   "cell_type": "code",
   "execution_count": null,
   "metadata": {},
   "outputs": [],
   "source": [
    "# with the S10 type you can store up to 10 character long strings (exclusive of a null terminator)\n",
    "# any string that is too long will be silently truncated\n",
    "# Note use the b prefix to denote byte strings as opposed to Unicode\n",
    "dset[0] = b\"0123456789\"\n",
    "dset[1] = b\"ABCD\"\n",
    "dset[2] = b\"hi, bye\"\n",
    "dset[3] = b\"This string is too long to fit\""
   ]
  },
  {
   "cell_type": "code",
   "execution_count": null,
   "metadata": {},
   "outputs": [],
   "source": [
    "dset[...]"
   ]
  },
  {
   "attachments": {},
   "cell_type": "markdown",
   "metadata": {},
   "source": [
    "You can use a special type to create datasets (or attributes)\n",
    "where each element can be of arbitrary length."
   ]
  },
  {
   "cell_type": "code",
   "execution_count": null,
   "metadata": {},
   "outputs": [],
   "source": [
    "dt = h5py.special_dtype(vlen=str)\n",
    "dset = f.create_dataset(\"vlen_str\", (4,), dtype=dt)\n",
    "dset[0] = b\"hi\"\n",
    "dset[1] = b\"bye\"\n",
    "dset[2] = b\"3.14\"\n",
    "dset[3] = b\"3.141592653589793\"\n",
    "dset[...]"
   ]
  },
  {
   "cell_type": "code",
   "execution_count": null,
   "metadata": {},
   "outputs": [],
   "source": [
    "# Rather than just primitive types (floats, ints, and strings), sometimes\n",
    "# it is nice to bundle together multiple types as with a C struct.\n",
    "# We can do that using compound types\n",
    "dt = np.dtype([(\"pressure\", float), (\"count\", int)])\n",
    "dset = f.create_dataset(\"compound\", (10,), dtype=dt)\n",
    " "
   ]
  },
  {
   "cell_type": "code",
   "execution_count": null,
   "metadata": {},
   "outputs": [],
   "source": [
    "# The type is an array of other types (possibly compound themselves!)\n",
    "dset.dtype"
   ]
  },
  {
   "cell_type": "code",
   "execution_count": null,
   "metadata": {},
   "outputs": [],
   "source": [
    "dset[0] = (32.8, 12)"
   ]
  },
  {
   "cell_type": "code",
   "execution_count": null,
   "metadata": {},
   "outputs": [],
   "source": [
    "dset[...]"
   ]
  },
  {
   "attachments": {},
   "cell_type": "markdown",
   "metadata": {},
   "source": [
    "Problem: Add a third field to the above type and create a new dataset using it"
   ]
  }
 ],
 "metadata": {
  "kernelspec": {
   "display_name": "Python 3",
   "language": "python",
   "name": "python3"
  },
  "language_info": {
   "codemirror_mode": {
    "name": "ipython",
    "version": 3
   },
   "file_extension": ".py",
   "mimetype": "text/x-python",
   "name": "python",
   "nbconvert_exporter": "python",
   "pygments_lexer": "ipython3",
   "version": "3.12.1"
  }
 },
 "nbformat": 4,
 "nbformat_minor": 4
}
