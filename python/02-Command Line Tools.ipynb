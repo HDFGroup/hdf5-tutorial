{
 "cells": [
  {
   "attachments": {},
   "cell_type": "markdown",
   "metadata": {},
   "source": [
    "# 2 Using Command Line Tools"
   ]
  },
  {
   "attachments": {},
   "cell_type": "markdown",
   "metadata": {},
   "source": [
    "Objectives:\n",
    " * Learn about the command line tools that are included with the HDF5 library (and h5pyd package for HSDS)\n",
    " * You can run these in a notebook using the shell escape '!', or open a terminal window and run them from there\n",
    " "
   ]
  },
  {
   "cell_type": "code",
   "execution_count": 1,
   "metadata": {},
   "outputs": [
    {
     "name": "stdout",
     "output_type": "stream",
     "text": [
      "[0] Downloading 'https://s3.amazonaws.com/hdfgroup/data/hdf5test/tall.h5' ...\n",
      "Saving 'tall.h5'\n",
      "HTTP response 200 OK [https://s3.amazonaws.com/hdfgroup/data/hdf5test/tall.h5]\n",
      "\u001b[m\u001b[m\u001b[m\u001b[m"
     ]
    }
   ],
   "source": [
    "# get a sample HDF5 file\n",
    "! wget https://s3.amazonaws.com/hdfgroup/data/hdf5test/tall.h5"
   ]
  },
  {
   "cell_type": "code",
   "execution_count": 2,
   "metadata": {
    "collapsed": false,
    "jupyter": {
     "outputs_hidden": false
    }
   },
   "outputs": [
    {
     "name": "stdout",
     "output_type": "stream",
     "text": [
      "/                        Group\n",
      "/g1                      Group\n",
      "/g1/g1.1                 Group\n",
      "/g1/g1.1/dset1.1.1       Dataset {10, 10}\n",
      "/g1/g1.1/dset1.1.2       Dataset {20}\n",
      "/g1/g1.2                 Group\n",
      "/g1/g1.2/extlink         External Link {somefile//somepath}\n",
      "/g1/g1.2/g1.2.1          Group\n",
      "/g1/g1.2/g1.2.1/slink    Soft Link {somevalue}\n",
      "/g2                      Group\n",
      "/g2/dset2.1              Dataset {10}\n",
      "/g2/dset2.2              Dataset {3, 5}\n"
     ]
    }
   ],
   "source": [
    "# Display objects with a file. Use -r for recursive mode\n",
    "! h5ls -r tall.h5"
   ]
  },
  {
   "cell_type": "code",
   "execution_count": 3,
   "metadata": {
    "collapsed": false,
    "jupyter": {
     "outputs_hidden": false
    }
   },
   "outputs": [
    {
     "name": "stdout",
     "output_type": "stream",
     "text": [
      "HDF5 \"tall.h5\" {\n",
      "GROUP \"/\" {\n",
      "   ATTRIBUTE \"attr1\" {\n",
      "      DATATYPE  H5T_STD_I8BE\n",
      "      DATASPACE  SIMPLE { ( 10 ) / ( 10 ) }\n",
      "      DATA {\n",
      "         \"abcdefghi\\000\"\n",
      "      }\n",
      "   }\n",
      "   ATTRIBUTE \"attr2\" {\n",
      "      DATATYPE  H5T_STD_I32BE\n",
      "      DATASPACE  SIMPLE { ( 2, 2 ) / ( 2, 2 ) }\n",
      "      DATA {\n",
      "      (0,0): 0, 1,\n",
      "      (1,0): 2, 3\n",
      "      }\n",
      "   }\n",
      "   GROUP \"g1\" {\n",
      "      GROUP \"g1.1\" {\n",
      "         DATASET \"dset1.1.1\" {\n",
      "            DATATYPE  H5T_STD_I32BE\n",
      "            DATASPACE  SIMPLE { ( 10, 10 ) / ( 10, 10 ) }\n",
      "            DATA {\n",
      "            (0,0): 0, 0, 0, 0, 0, 0, 0, 0, 0, 0,\n",
      "            (1,0): 0, 1, 2, 3, 4, 5, 6, 7, 8, 9,\n",
      "            (2,0): 0, 2, 4, 6, 8, 10, 12, 14, 16, 18,\n",
      "            (3,0): 0, 3, 6, 9, 12, 15, 18, 21, 24, 27,\n",
      "            (4,0): 0, 4, 8, 12, 16, 20, 24, 28, 32, 36,\n",
      "            (5,0): 0, 5, 10, 15, 20, 25, 30, 35, 40, 45,\n",
      "            (6,0): 0, 6, 12, 18, 24, 30, 36, 42, 48, 54,\n",
      "            (7,0): 0, 7, 14, 21, 28, 35, 42, 49, 56, 63,\n",
      "            (8,0): 0, 8, 16, 24, 32, 40, 48, 56, 64, 72,\n",
      "            (9,0): 0, 9, 18, 27, 36, 45, 54, 63, 72, 81\n",
      "            }\n",
      "            ATTRIBUTE \"attr1\" {\n",
      "               DATATYPE  H5T_STD_I8BE\n",
      "               DATASPACE  SIMPLE { ( 27 ) / ( 27 ) }\n",
      "               DATA {\n",
      "                  \"1st attribute of dset1.1.1\\000\"\n",
      "               }\n",
      "            }\n",
      "            ATTRIBUTE \"attr2\" {\n",
      "               DATATYPE  H5T_STD_I8BE\n",
      "               DATASPACE  SIMPLE { ( 27 ) / ( 27 ) }\n",
      "               DATA {\n",
      "                  \"2nd attribute of dset1.1.1\\000\"\n",
      "               }\n",
      "            }\n",
      "         }\n",
      "         DATASET \"dset1.1.2\" {\n",
      "            DATATYPE  H5T_STD_I32BE\n",
      "            DATASPACE  SIMPLE { ( 20 ) / ( 20 ) }\n",
      "            DATA {\n",
      "            (0): 0, 1, 2, 3, 4, 5, 6, 7, 8, 9, 10, 11, 12, 13, 14, 15, 16,\n",
      "            (17): 17, 18, 19\n",
      "            }\n",
      "         }\n",
      "      }\n",
      "      GROUP \"g1.2\" {\n",
      "         EXTERNAL_LINK \"extlink\" {\n",
      "            TARGETFILE \"somefile\"\n",
      "            TARGETPATH \"somepath\"\n",
      "         }\n",
      "         GROUP \"g1.2.1\" {\n",
      "            SOFTLINK \"slink\" {\n",
      "               LINKTARGET \"somevalue\"\n",
      "            }\n",
      "         }\n",
      "      }\n",
      "   }\n",
      "   GROUP \"g2\" {\n",
      "      DATASET \"dset2.1\" {\n",
      "         DATATYPE  H5T_IEEE_F32BE\n",
      "         DATASPACE  SIMPLE { ( 10 ) / ( 10 ) }\n",
      "         DATA {\n",
      "         (0): 1, 1.1, 1.2, 1.3, 1.4, 1.5, 1.6, 1.7, 1.8, 1.9\n",
      "         }\n",
      "      }\n",
      "      DATASET \"dset2.2\" {\n",
      "         DATATYPE  H5T_IEEE_F32BE\n",
      "         DATASPACE  SIMPLE { ( 3, 5 ) / ( 3, 5 ) }\n",
      "         DATA {\n",
      "         (0,0): 0, 0.1, 0.2, 0.3, 0.4,\n",
      "         (1,0): 0, 0.2, 0.4, 0.6, 0.8,\n",
      "         (2,0): 0, 0.3, 0.6, 0.9, 1.2\n",
      "         }\n",
      "      }\n",
      "   }\n",
      "}\n",
      "}\n"
     ]
    }
   ],
   "source": [
    "# h5dump will show the dataset contents by default\n",
    "! h5dump -r tall.h5"
   ]
  },
  {
   "cell_type": "code",
   "execution_count": 4,
   "metadata": {
    "collapsed": false,
    "jupyter": {
     "outputs_hidden": false
    }
   },
   "outputs": [
    {
     "name": "stdout",
     "output_type": "stream",
     "text": [
      "server name: hsds on devone\n",
      "server state: READY\n",
      "endpoint: http://hsds.hdf.test:5101\n",
      "username: test_user1 \n",
      "password: ****\n",
      "home: /home/test_user1/\n",
      "server version: 0.8.1\n",
      "node count: 1\n",
      "up: 59 min 48 sec\n",
      "h5pyd version: 0.15.1\n"
     ]
    }
   ],
   "source": [
    "# On the HSDS side, hsinfo will show the current server status\n",
    "! hsinfo"
   ]
  },
  {
   "cell_type": "code",
   "execution_count": 5,
   "metadata": {},
   "outputs": [],
   "source": [
    "# you can use hsload to copy a local file to HSDS\n",
    "! hsload tall.h5 hdf5://home/test_user1/"
   ]
  },
  {
   "cell_type": "code",
   "execution_count": 6,
   "metadata": {},
   "outputs": [
    {
     "name": "stdout",
     "output_type": "stream",
     "text": [
      "/ Group\n",
      "/g1 Group\n",
      "/g1/g1.1 Group\n",
      "/g1/g1.1/dset1.1.1 Dataset {10, 10}\n",
      "/g1/g1.1/dset1.1.2 Dataset {20}\n",
      "/g1/g1.2 Group\n",
      "/g1/g1.2/g1.2.1 Group\n",
      "/g1/g1.2/g1.2.1/slink    SoftLink {somevalue}\n",
      "/g1/g1.2/extlink         ExternalLink {somepath//somefile}\n",
      "/g2 Group\n",
      "/g2/dset2.1 Dataset {10}\n",
      "/g2/dset2.2 Dataset {3, 5}\n"
     ]
    }
   ],
   "source": [
    "# hsls works like h5ls but with content managed by the server\n",
    "! hsls -r hdf5://home/test_user1/tall.h5"
   ]
  },
  {
   "cell_type": "code",
   "execution_count": 7,
   "metadata": {},
   "outputs": [
    {
     "name": "stdout",
     "output_type": "stream",
     "text": [
      "test_user1                                          folder   2023-03-10 17:20:29 hdf5://home/test_user1/\n",
      "test_user1                                          domain   2023-08-09 16:59:50 hdf5://home/test_user1/01.h5\n",
      "test_user1                                          domain   2023-08-09 16:39:16 hdf5://home/test_user1/03.h5\n",
      "test_user1                                          domain   2023-08-09 18:39:25 hdf5://home/test_user1/04.h5\n",
      "test_user1                                          domain   2023-08-10 17:21:23 hdf5://home/test_user1/05.h5\n",
      "test_user1                                          domain   2023-08-10 17:37:10 hdf5://home/test_user1/06.h5\n",
      "test_user1                                          domain   2023-04-11 16:47:20 hdf5://home/test_user1/ascii_attr.h5\n",
      "test_user1                                          domain   2023-04-10 12:43:53 hdf5://home/test_user1/d_nullref.h5\n",
      "test_user1                                          domain   2023-03-22 21:37:59 hdf5://home/test_user1/d_objref.h5\n",
      "test_user1                                          folder   2023-03-31 13:05:11 hdf5://home/test_user1/equinor\n",
      "test_user1                                          domain   2023-04-10 14:55:33 hdf5://home/test_user1/fletcher32.h5\n",
      "test_user1                                          domain   2023-04-26 20:21:05 hdf5://home/test_user1/g1.h5\n",
      "test_user1                                          folder   2023-03-20 22:04:21 hdf5://home/test_user1/h5pyd_test\n",
      "test_user1                                          folder   2023-03-11 20:42:12 hdf5://home/test_user1/hsds_test\n",
      "test_user1                                          folder   2023-06-21 12:39:00 hdf5://home/test_user1/icesat2\n",
      "test_user1                                          domain   2023-04-10 14:55:52 hdf5://home/test_user1/scale_offset.h5\n",
      "test_user1                                          domain   2023-03-30 19:57:15 hdf5://home/test_user1/scaleoffset.h5\n",
      "test_user1                                          domain   2023-04-10 15:32:54 hdf5://home/test_user1/shuffle_compress.h5\n",
      "test_user1                                          domain   2023-03-23 17:27:25 hdf5://home/test_user1/simpleattr.h5\n",
      "test_user1                                          domain   2023-04-28 16:33:47 hdf5://home/test_user1/snp500_link.h5\n",
      "test_user1                                          folder   2023-04-05 22:21:07 hdf5://home/test_user1/stream\n",
      "test_user1                                          domain   2023-08-10 17:54:20 hdf5://home/test_user1/tall.h5\n",
      "test_user1                                          domain   2023-03-11 20:39:53 hdf5://home/test_user1/tall2.h5\n",
      "test_user1                                          domain   2023-03-13 13:10:12 hdf5://home/test_user1/tall3.h5\n",
      "test_user1                                          domain   2023-04-10 16:24:25 hdf5://home/test_user1/tall_compress.h5\n",
      "test_user1                                          folder   2023-03-10 17:21:28 hdf5://home/test_user1/test\n",
      "test_user1                                          folder   2023-07-16 22:25:44 hdf5://home/test_user1/tmp\n",
      "test_user1                                          domain   2023-05-09 18:41:51 hdf5://home/test_user1/wordmap.h5\n",
      "28 items\n"
     ]
    }
   ],
   "source": [
    "# hsls can also be used to display contents of an HSDS folder\n",
    "# Note: trailing slash is required\n",
    "! hsls hdf5://home/test_user1/"
   ]
  },
  {
   "cell_type": "code",
   "execution_count": 8,
   "metadata": {},
   "outputs": [
    {
     "name": "stdout",
     "output_type": "stream",
     "text": [
      "domain: hdf5://home/test_user1/tall.h5\n",
      "    owner:           test_user1\n",
      "    id:              g-d761f590-972a9c10-5fe9-7d181f-a21498\n",
      "    last modified:   2023-08-10 17:54:20\n",
      "    total_size:      0\n",
      "    allocated_bytes: 0\n",
      "    num objects:     0\n",
      "    num chunks:      0\n"
     ]
    }
   ],
   "source": [
    "# hsstat provides information about storage used for HSDS objects similar to how h5stat works\n",
    "# Note: it may take a minute before the information displayed by hsstat is current\n",
    "! hsstat hdf5://home/test_user1/tall.h5"
   ]
  },
  {
   "attachments": {},
   "cell_type": "markdown",
   "metadata": {},
   "source": [
    "Problem: If the path name doesn't end in a slash, hsls assumes you are looking for a domain, not a folder.  What does \"hsls -H -v /shared\" return?"
   ]
  },
  {
   "attachments": {},
   "cell_type": "markdown",
   "metadata": {},
   "source": [
    "Problem: Try the above command with the -H -v flags"
   ]
  },
  {
   "attachments": {},
   "cell_type": "markdown",
   "metadata": {},
   "source": [
    "Problem: Try the above command with different options:\n",
    "* -v\n",
    "* --showattrs\n",
    "* --showacls\n",
    "* --loglevel debug"
   ]
  },
  {
   "attachments": {},
   "cell_type": "markdown",
   "metadata": {},
   "source": [
    "Problem: List the contents of the home directory for your account.\n",
    "Add the --showacls flag to show the permissions for this folder"
   ]
  },
  {
   "attachments": {},
   "cell_type": "markdown",
   "metadata": {},
   "source": [
    "Problem: Run ``$showacl /home/test_user1/`` to show the permissions of the folder"
   ]
  },
  {
   "attachments": {},
   "cell_type": "markdown",
   "metadata": {},
   "source": [
    "### Upload the file to your home folder\n",
    "Run: `$ hsload tall.h5 /home/test_user1/`  # replace 'myfolder' with your actual folder\n"
   ]
  },
  {
   "attachments": {},
   "cell_type": "markdown",
   "metadata": {},
   "source": [
    "### List the contents of the uploaded file\n",
    "The file is now stored in HSDS, use hsls to display it:\n",
    "`$ hsls -r /home/test_user1/tall.h5`\n"
   ]
  },
  {
   "attachments": {},
   "cell_type": "markdown",
   "metadata": {},
   "source": [
    "\n",
    "### Download the file \n",
    "Run: `$ hsget /home/test_user1/tall.h5 tall2.h5`\n",
    "This will download the file as tall2.h5\n"
   ]
  },
  {
   "attachments": {},
   "cell_type": "markdown",
   "metadata": {},
   "source": [
    "### Compare the two files\n",
    "Run: `$ h5dump tall.h5` \n",
    "and`$h5dump tall2.h5`\n",
    "\n",
    "Problem: Are these files the same?"
   ]
  },
  {
   "attachments": {},
   "cell_type": "markdown",
   "metadata": {},
   "source": [
    "### ACLS (Access Control List)\n",
    "Each server domain or folder can contain one or more ACLs that control\n",
    "who may perform operations (e.g. read/update/delete)\n",
    "\n",
    "Run: $ hsacl /home/test_user1/tall.h5\n",
    "\n",
    "Problem: What happens when you run $ hsacl /home/test_user1/tall.h5?\n",
    "\n",
    "Problem: Update *your* tall.h5 so that anyone can read the ACLs\n",
    "(see hsacl --help)"
   ]
  },
  {
   "cell_type": "code",
   "execution_count": null,
   "metadata": {},
   "outputs": [],
   "source": []
  }
 ],
 "metadata": {
  "kernelspec": {
   "display_name": "Python 3",
   "language": "python",
   "name": "python3"
  },
  "language_info": {
   "codemirror_mode": {
    "name": "ipython",
    "version": 3
   },
   "file_extension": ".py",
   "mimetype": "text/x-python",
   "name": "python",
   "nbconvert_exporter": "python",
   "pygments_lexer": "ipython3",
   "version": "3.9.15"
  }
 },
 "nbformat": 4,
 "nbformat_minor": 4
}
