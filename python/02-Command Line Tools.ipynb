{
 "cells": [
  {
   "attachments": {},
   "cell_type": "markdown",
   "metadata": {},
   "source": [
    "# 2 Using Command Line Tools"
   ]
  },
  {
   "attachments": {},
   "cell_type": "markdown",
   "metadata": {},
   "source": [
    "Objectives:\n",
    " * Learn about the command line tools that are included with the HDF5 library (and h5pyd package for HSDS)\n",
    " * You can run these in a notebook using the shell escape '!', or open a terminal window and run them from there\n",
    " "
   ]
  },
  {
   "cell_type": "markdown",
   "metadata": {},
   "source": [
    "Using HDF5 Library Tools\n",
    "------------------------\n",
    "\n",
    "There are several command line tools that are included with the HDF5 library.\n",
    "The most commonly used ones are: \n",
    "\n",
    "* `h5ls` - list contents of an HDF5 file\n",
    "* `h5dump` - dump out the contents of an HDF5 file\n",
    "* `h5diff` - compare two HDF5 files\n",
    "* `h5stat` - get detailed statistics on an HDF5 file\n",
    "\n",
    "We'll explore each of these below..."
   ]
  },
  {
   "cell_type": "code",
   "execution_count": null,
   "metadata": {},
   "outputs": [],
   "source": [
    "# To start with, let's grab an HDF5 file to work with...\n",
    "# The exclamation sign indicates to jupyter to execute the following cell in the shell\n",
    "# Alternatively you use the codespace terminal tool and run wget there.\n",
    "! wget https://s3.amazonaws.com/hdfgroup/data/hdf5test/tall.h5"
   ]
  },
  {
   "cell_type": "code",
   "execution_count": null,
   "metadata": {
    "collapsed": false,
    "jupyter": {
     "outputs_hidden": false
    }
   },
   "outputs": [],
   "source": [
    "# Display objects with a file. Use -r for recursive mode\n",
    "! h5ls -r tall.h5"
   ]
  },
  {
   "cell_type": "code",
   "execution_count": null,
   "metadata": {
    "collapsed": false,
    "jupyter": {
     "outputs_hidden": false
    }
   },
   "outputs": [],
   "source": [
    "# h5dump will show the dataset contents by default\n",
    "! h5dump -r tall.h5"
   ]
  },
  {
   "cell_type": "code",
   "execution_count": null,
   "metadata": {},
   "outputs": [],
   "source": [
    "# h5dump will display not just the objects in the file, but (by default) print\n",
    "# the dataset data as  well\n",
    "! h5dump -r tall.h5"
   ]
  },
  {
   "cell_type": "code",
   "execution_count": null,
   "metadata": {},
   "outputs": [],
   "source": [
    "# h5stat will show many detailed statitistics about the file\n",
    "! h5stat tall.h5"
   ]
  },
  {
   "cell_type": "markdown",
   "metadata": {},
   "source": [
    "Using h5pyd Tools\n",
    "------------------------\n",
    "\n",
    "The h5pyd Python package provides a Python interface for accessing HSDS.  \n",
    "It's based on the h5py API, so most programs should be easily converted from using\n",
    "h5py to h5pyd.  \n",
    "The h5pyd package also include a set of command line tools for working with HSDS content.\n",
    "There are analogs to the library tools (`hsls` rather than `h5ls`) plus some additional tools\n",
    "that serve as standins for the common Linux command line tools (e.g. `hsrm` rather than `rm`).\n",
    "There are also tools for uploading an HDF5 file to an HSDS domain (`hsload`) and \n",
    "downloading an HSDS domain to an HDF5 file (hopefully not the worse for wear).\n",
    "The tools linclude: hsconfigure, hsload, hsget, hsls, hstouch, hsrm, hsacl, hsdiff,\n",
    "and hsstat: \n",
    "\n",
    "* `hsconfigure` - setup a connection to an HSDS server\n",
    "* `hsload` - copy an HDF5 file to an HSDS domain\n",
    "* `hsget` - copy an HSDS domain to an HDF5 file\n",
    "* `hsls` - list the contents of an HSDS domain (or HSDS folders)\n",
    "* `hstouch` - create a new domain or folder\n",
    "* `hsrm` - remove a domain or folder\n",
    "* `hsacl` - view or edit HSDS folder or domain ACLs (permission settings)\n",
    "* `hsdiff` - compare an HDF5 file with an HSDS domain\n",
    "* `hsstat` - get detailed statistics on an HSDS domain\n",
    "\n",
    "Running any of these with `--help` will provide usage info.\n",
    "\n",
    "In addition we'll try  out some of these below..."
   ]
  },
  {
   "cell_type": "code",
   "execution_count": null,
   "metadata": {
    "collapsed": false,
    "jupyter": {
     "outputs_hidden": false
    }
   },
   "outputs": [],
   "source": [
    "# A dedicated instance of HSDS should be running as part of this \n",
    "# codespace.\n",
    "# You can verify this by using the hsinfo command.  \n",
    "# It will show the current server status\n",
    "! hsinfo"
   ]
  },
  {
   "cell_type": "code",
   "execution_count": null,
   "metadata": {},
   "outputs": [],
   "source": [
    "# When you first create the codespace, there are no domains loaded in HSDS,\n",
    "# but you can use hsload any HDF5 to HSDS.\n",
    "# Let's try it with the file we downloaded earlier.\n",
    "! hsload tall.h5 hdf5://home/vscode/"
   ]
  },
  {
   "cell_type": "code",
   "execution_count": null,
   "metadata": {},
   "outputs": [],
   "source": [
    "# hsls works like h5ls but with content managed by the server\n",
    "! hsls -r hdf5://home/vscode/tall.h5"
   ]
  },
  {
   "cell_type": "code",
   "execution_count": null,
   "metadata": {},
   "outputs": [],
   "source": [
    "# hsls can also be used to display contents of an HSDS folder.\n",
    "# HSDS folders are similar in concept to directories.  They allow you\n",
    "# to organize collections of domains and sub-folders\n",
    "# Note: trailing slash is required\n",
    "\n",
    "! hsls hdf5://home/vscode/"
   ]
  },
  {
   "cell_type": "code",
   "execution_count": null,
   "metadata": {},
   "outputs": [],
   "source": [
    "# hsstat can be used to see statistics of the domain\n",
    "! hsstat hdf5://home/vscode/tall.h5"
   ]
  },
  {
   "cell_type": "code",
   "execution_count": null,
   "metadata": {},
   "outputs": [],
   "source": [
    "# and hsget allows you to create an hdf5 file from an HSDS domain\n",
    "! hsget hdf5://home/vscode/tall.h5  tall2.h5"
   ]
  },
  {
   "cell_type": "code",
   "execution_count": null,
   "metadata": {},
   "outputs": [],
   "source": [
    "# compare this to the original.  No output indicates that the two are equivalent\n",
    "! h5diff tall.h5 tall2.h5"
   ]
  },
  {
   "cell_type": "markdown",
   "metadata": {},
   "source": [
    "HDF5 File Linking\n",
    "-----------------\n",
    "\n",
    "If you would like to load a HDF5 file in the cloud (with s3 or azure blob storage), you can *link* to it rather\n",
    "than copying all the data into the limited storage include with your codespace.\n",
    "Linking we just copy the HDF5 file metadata (typically a small fraction of the over file size) to your\n",
    "local HSDS store.  The HDF5 \"chunks\" (where dataset data is stored) are accessed on demand from the cloud provider.\n",
    "Since your vscode space is also in the cloud, this should be quite fast compared with accessing directly from your \n",
    "laptop."
   ]
  },
  {
   "cell_type": "code",
   "execution_count": null,
   "metadata": {},
   "outputs": [],
   "source": [
    "# Use the --link option to link to an existing file.\n",
    "! hsload --link s3://hdf5.sample/data/hdf5test/snp500.h5 hdf5://home/vsode/snp500.h5"
   ]
  },
  {
   "attachments": {},
   "cell_type": "markdown",
   "metadata": {},
   "source": [
    "Problem: If the path name doesn't end in a slash, hsls assumes you are looking for a domain, not a folder.  What does \"hsls -H -v /shared\" return?"
   ]
  },
  {
   "attachments": {},
   "cell_type": "markdown",
   "metadata": {},
   "source": [
    "Problem: Try the above command with the -H -v flags"
   ]
  },
  {
   "attachments": {},
   "cell_type": "markdown",
   "metadata": {},
   "source": [
    "Problem: Try the above command with different options:\n",
    "* -v\n",
    "* --showattrs\n",
    "* --showacls\n",
    "* --loglevel debug"
   ]
  },
  {
   "attachments": {},
   "cell_type": "markdown",
   "metadata": {},
   "source": [
    "Problem: List the contents of the home directory for your account.\n",
    "Add the --showacls flag to show the permissions for this folder"
   ]
  },
  {
   "attachments": {},
   "cell_type": "markdown",
   "metadata": {},
   "source": [
    "Problem: Run ``$showacl /home/test_user1/`` to show the permissions of the folder"
   ]
  },
  {
   "attachments": {},
   "cell_type": "markdown",
   "metadata": {},
   "source": [
    "### Upload the file to your home folder\n",
    "Run: `$ hsload tall.h5 /home/test_user1/`  # replace 'myfolder' with your actual folder\n"
   ]
  },
  {
   "attachments": {},
   "cell_type": "markdown",
   "metadata": {},
   "source": [
    "### List the contents of the uploaded file\n",
    "The file is now stored in HSDS, use hsls to display it:\n",
    "`$ hsls -r /home/test_user1/tall.h5`\n"
   ]
  },
  {
   "attachments": {},
   "cell_type": "markdown",
   "metadata": {},
   "source": [
    "\n",
    "### Download the file \n",
    "Run: `$ hsget /home/test_user1/tall.h5 tall2.h5`\n",
    "This will download the file as tall2.h5\n"
   ]
  },
  {
   "attachments": {},
   "cell_type": "markdown",
   "metadata": {},
   "source": [
    "### Compare the two files\n",
    "Run: `$ h5dump tall.h5` \n",
    "and`$h5dump tall2.h5`\n",
    "\n",
    "Problem: Are these files the same?"
   ]
  },
  {
   "attachments": {},
   "cell_type": "markdown",
   "metadata": {},
   "source": [
    "### ACLS (Access Control List)\n",
    "Each server domain or folder can contain one or more ACLs that control\n",
    "who may perform operations (e.g. read/update/delete)\n",
    "\n",
    "Run: $ hsacl /home/test_user1/tall.h5\n",
    "\n",
    "Problem: What happens when you run $ hsacl /home/test_user1/tall.h5?\n",
    "\n",
    "Problem: Update *your* tall.h5 so that anyone can read the ACLs\n",
    "(see hsacl --help)"
   ]
  },
  {
   "cell_type": "code",
   "execution_count": null,
   "metadata": {},
   "outputs": [],
   "source": []
  }
 ],
 "metadata": {
  "kernelspec": {
   "display_name": "Python 3",
   "language": "python",
   "name": "python3"
  },
  "language_info": {
   "codemirror_mode": {
    "name": "ipython",
    "version": 3
   },
   "file_extension": ".py",
   "mimetype": "text/x-python",
   "name": "python",
   "nbconvert_exporter": "python",
   "pygments_lexer": "ipython3",
   "version": "3.9.18"
  }
 },
 "nbformat": 4,
 "nbformat_minor": 4
}
