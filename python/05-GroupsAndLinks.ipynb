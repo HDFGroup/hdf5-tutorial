{
 "cells": [
  {
   "attachments": {},
   "cell_type": "markdown",
   "metadata": {},
   "source": [
    "# 5 Groups and Links"
   ]
  },
  {
   "attachments": {},
   "cell_type": "markdown",
   "metadata": {},
   "source": [
    "Objectives:\n",
    " * Create groups and subgroups\n",
    " * List contents of a group\n",
    " * Iterate though all objects in a file"
   ]
  },
  {
   "cell_type": "code",
   "execution_count": null,
   "metadata": {},
   "outputs": [],
   "source": [
    "USE_H5PY = False # set to False to use h5py/hdf5lib instead\n",
    "if USE_H5PY:\n",
    "    import h5py\n",
    "    WORK_DIR=\".\"  # this directory\n",
    "else:\n",
    "    import h5pyd as h5py\n",
    "    WORK_DIR=\"hdf5://home/vscode/\"\n",
    "import os.path as op"
   ]
  },
  {
   "cell_type": "code",
   "execution_count": null,
   "metadata": {
    "collapsed": false,
    "jupyter": {
     "outputs_hidden": false
    }
   },
   "outputs": [],
   "source": [
    "filepath = op.join(WORK_DIR, \"05.h5\")\n",
    "print(f\"creating HDF5 file here: {filepath}\")\n",
    "f = h5py.File(filepath, 'w')\n",
    "f.id.id"
   ]
  },
  {
   "cell_type": "code",
   "execution_count": null,
   "metadata": {},
   "outputs": [],
   "source": [
    "# the file handle is also the root group\n",
    "if isinstance(f, h5py.Group):\n",
    "    print(\"f is a Group instance\")\n",
    "else:\n",
    "    print(\"this is unexpected!\")"
   ]
  },
  {
   "cell_type": "code",
   "execution_count": null,
   "metadata": {},
   "outputs": [],
   "source": [
    "# For h5py, the id is an integer.\n",
    "# For h5pyd, the id is a UUID.  The \"g-\" prefix of the id indicates that this is a group\n",
    "\n",
    "f.id.id"
   ]
  },
  {
   "cell_type": "code",
   "execution_count": null,
   "metadata": {},
   "outputs": [],
   "source": [
    "list(f)  # no groups in root (yet)!"
   ]
  },
  {
   "cell_type": "code",
   "execution_count": null,
   "metadata": {},
   "outputs": [],
   "source": [
    "# create two groups\n",
    "if \"g1\" not in f:\n",
    "    f.create_group(\"g1\")\n",
    "if \"g2\" not in f:\n",
    "    f.create_group(\"g2\") \n",
    "g1 = f[\"g1\"]\n",
    "g2 = f[\"g2\"]\n",
    "print(\"g1 id:\", g1.id.id)\n",
    "print(\"g2 id:\", g2.id.id)   "
   ]
  },
  {
   "cell_type": "code",
   "execution_count": null,
   "metadata": {},
   "outputs": [],
   "source": [
    "list(f)"
   ]
  },
  {
   "attachments": {},
   "cell_type": "markdown",
   "metadata": {},
   "source": [
    "Problem:  Use the hsls or h5ls to list contents of file "
   ]
  },
  {
   "cell_type": "code",
   "execution_count": null,
   "metadata": {},
   "outputs": [],
   "source": [
    "# each object has a name property that gives the h5path of the object \n",
    "g1.name"
   ]
  },
  {
   "cell_type": "code",
   "execution_count": null,
   "metadata": {},
   "outputs": [],
   "source": [
    "# create a scalar (just one element) dataset\n",
    "f.create_dataset(\"dset1\", data=42)"
   ]
  },
  {
   "cell_type": "code",
   "execution_count": null,
   "metadata": {},
   "outputs": [],
   "source": [
    "# now the root group has two sub-groups and one dataset\n",
    "# we can do a typical Python iteration\n",
    "for x in f:\n",
    "    print(x, f[x].id.id)"
   ]
  },
  {
   "cell_type": "code",
   "execution_count": null,
   "metadata": {},
   "outputs": [],
   "source": [
    "list(f)"
   ]
  },
  {
   "cell_type": "code",
   "execution_count": null,
   "metadata": {},
   "outputs": [],
   "source": [
    "# You can treat groups like Python dictionaries.\n",
    "# Look up an item by providing the name\n",
    "f[\"dset1\"].dtype"
   ]
  },
  {
   "cell_type": "code",
   "execution_count": null,
   "metadata": {},
   "outputs": [],
   "source": [
    "# every object has a file property that will lead you back to the file\n",
    "# it belongs to (in case you got lost)\n",
    "g1.file"
   ]
  },
  {
   "cell_type": "code",
   "execution_count": null,
   "metadata": {},
   "outputs": [],
   "source": [
    "# groups can have sub-groups\n",
    "g1.create_group(\"g1.1\")"
   ]
  },
  {
   "cell_type": "code",
   "execution_count": null,
   "metadata": {},
   "outputs": [],
   "source": [
    "# you can address it by name from the parent group\n",
    "g1[\"g1.1\"].id.id"
   ]
  },
  {
   "cell_type": "code",
   "execution_count": null,
   "metadata": {},
   "outputs": [],
   "source": [
    "# of by an h5path from root\n",
    "f[\"/g1/g1.1\"].id.id"
   ]
  },
  {
   "cell_type": "code",
   "execution_count": null,
   "metadata": {},
   "outputs": [],
   "source": [
    "g2 = f[\"g2\"]\n",
    "g1_1 = g1[\"g1.1\"]\n",
    "# You can create links to existing objects\n",
    "g2[\"g1.1\"] = g1_1"
   ]
  },
  {
   "attachments": {},
   "cell_type": "markdown",
   "metadata": {},
   "source": [
    "Problem: Run hsls or h5ls on this file with the -r option"
   ]
  },
  {
   "cell_type": "code",
   "execution_count": null,
   "metadata": {},
   "outputs": [],
   "source": [
    "# soft links create a link by name that may or may not refer to an actual object\n",
    "f[\"softlink\"] = h5py.SoftLink(\"/g2/dset\")"
   ]
  },
  {
   "cell_type": "code",
   "execution_count": null,
   "metadata": {},
   "outputs": [],
   "source": [
    "# the links show up in a list\n",
    "list(f)"
   ]
  },
  {
   "cell_type": "code",
   "execution_count": null,
   "metadata": {},
   "outputs": [],
   "source": [
    "# but in this case it doesn't refer to anything\n",
    "try:\n",
    "    print(\"softlink:\", f[\"softlink\"])\n",
    "except KeyError as ke:\n",
    "    print(\"error:\", ke)"
   ]
  },
  {
   "cell_type": "code",
   "execution_count": null,
   "metadata": {},
   "outputs": [],
   "source": [
    "# external links can point to an object in another file\n",
    "link_filepath = op.join(WORK_DIR, \"tall.h5\")\n",
    "f[\"external_link\"] = h5py.ExternalLink(link_filepath, \"/g1/g1.1/dset1.1.1\")\n",
    "print(link_filepath)"
   ]
  },
  {
   "cell_type": "code",
   "execution_count": null,
   "metadata": {},
   "outputs": [],
   "source": [
    "# now you can reference it as if it was a part of the file\n",
    "print(\"external shape:\", f[\"external_link\"].shape)"
   ]
  },
  {
   "cell_type": "code",
   "execution_count": null,
   "metadata": {},
   "outputs": [],
   "source": [
    "# To iterate through all the members of a group recursively use the visit method\n",
    "def printname(name):\n",
    "    print(name)\n",
    "f.visit(printname)"
   ]
  },
  {
   "cell_type": "code",
   "execution_count": null,
   "metadata": {},
   "outputs": [],
   "source": [
    "# you can create an anonymous HDF object - i.e. an object that has no links to it\n",
    "anon_dset = f.create_dataset(None, data=\"abc\")"
   ]
  },
  {
   "cell_type": "code",
   "execution_count": null,
   "metadata": {},
   "outputs": [],
   "source": [
    "# if you have a reference to it, you can use it in the usual way\n",
    "anon_dset[()]"
   ]
  },
  {
   "cell_type": "code",
   "execution_count": null,
   "metadata": {},
   "outputs": [],
   "source": [
    "# they don't have a name though\n",
    "anon_dset.name"
   ]
  },
  {
   "cell_type": "code",
   "execution_count": null,
   "metadata": {},
   "outputs": [],
   "source": [
    "anon_dset_id = anon_dset.id.id"
   ]
  },
  {
   "cell_type": "code",
   "execution_count": null,
   "metadata": {},
   "outputs": [],
   "source": [
    "# In the library, anonymous datasets will not be persisted\n",
    "# In HSDS though, they will, and can be accessed using the uuid\n",
    "f.close() # re-open file\n",
    "f = h5py.File(filepath)\n",
    "\n",
    "try:\n",
    "    anon_dset = f[f\"datasets/{anon_dset_id}\"]\n",
    "    anon_dset[()]\n",
    "except KeyError:\n",
    "    print(\"this trick doesn't work with the HDF5 library\")\n",
    "\n"
   ]
  }
 ],
 "metadata": {
  "kernelspec": {
   "display_name": "Python 3",
   "language": "python",
   "name": "python3"
  },
  "language_info": {
   "codemirror_mode": {
    "name": "ipython",
    "version": 3
   },
   "file_extension": ".py",
   "mimetype": "text/x-python",
   "name": "python",
   "nbconvert_exporter": "python",
   "pygments_lexer": "ipython3",
   "version": "3.9.18"
  }
 },
 "nbformat": 4,
 "nbformat_minor": 4
}
